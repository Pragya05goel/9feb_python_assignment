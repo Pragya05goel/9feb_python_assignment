{
 "cells": [
  {
   "cell_type": "markdown",
   "id": "86610416-8bb3-497e-9c6c-66c887ea51fe",
   "metadata": {},
   "source": [
    "## ASSIGNMENT"
   ]
  },
  {
   "cell_type": "markdown",
   "id": "56c6d5b5-b56f-4d35-9347-106c8b630f15",
   "metadata": {},
   "source": [
    "Q1, Create a vehicle class with an init method having instance variables as name_of_vehicle, max_speed\n",
    "and average_of_vehicle.\n"
   ]
  },
  {
   "cell_type": "code",
   "execution_count": 1,
   "id": "7a40be23-176b-49dc-a2be-c8f0ac4d0a5b",
   "metadata": {},
   "outputs": [],
   "source": [
    "class vehicle:\n",
    "    \n",
    "    def __init__(self,name_of_vehicle,max_speed,average_of_vehicle):\n",
    "        self.name_of_vehicle=name_of_vehicle\n",
    "        self.max_speed=max_speed\n",
    "        self.average_of_vehicle=average_of_vehicle"
   ]
  },
  {
   "cell_type": "markdown",
   "id": "6f15a88b-8d62-4c88-aa71-f33b38a01834",
   "metadata": {},
   "source": [
    "Q2. Create a child class car from the vehicle class created in Que 1, which will inherit the vehicle class.\n",
    "Create a method named seating_capacity which takes capacity as an argument and returns the name of\n",
    "the vehicle and its seating capacity."
   ]
  },
  {
   "cell_type": "code",
   "execution_count": 2,
   "id": "5f13d52a-d8af-4799-84cf-7ecce4e433cd",
   "metadata": {},
   "outputs": [],
   "source": [
    "class car(vehicle):\n",
    "    \n",
    "    def seating_capacity(self,capacity):\n",
    "        return (self.name_of_vehicle,capacity)"
   ]
  },
  {
   "cell_type": "code",
   "execution_count": 3,
   "id": "148bf344-b26a-4f92-9f27-6e32692cd827",
   "metadata": {},
   "outputs": [],
   "source": [
    "obj_c=car(\"Car\",100,70)"
   ]
  },
  {
   "cell_type": "code",
   "execution_count": 4,
   "id": "37c0dc10-8591-4386-9864-24001abeb8b5",
   "metadata": {},
   "outputs": [
    {
     "data": {
      "text/plain": [
       "('Car', 4)"
      ]
     },
     "execution_count": 4,
     "metadata": {},
     "output_type": "execute_result"
    }
   ],
   "source": [
    "obj_c.seating_capacity(4)"
   ]
  },
  {
   "cell_type": "markdown",
   "id": "6087e106-cb18-4d59-a500-4aec205a3cbd",
   "metadata": {},
   "source": [
    "Q3. What is multiple inheritance? Write a python code to demonstrate multiple inheritance."
   ]
  },
  {
   "cell_type": "markdown",
   "id": "15903a51-88c9-4b13-9f9e-85eca10be5e6",
   "metadata": {},
   "source": [
    "Multiple Inheritance:-\n",
    "\n",
    "This inheritance enables a child class to inherit from more than one parent class. This type of inheritance is not supported by java classes, but python does support this kind of inheritance. It has a massive advantage if we have a requirement of gathering multiple characteristics from different classes."
   ]
  },
  {
   "cell_type": "code",
   "execution_count": 5,
   "id": "6810a2ea-a106-448c-ab27-b8fdd24adff7",
   "metadata": {},
   "outputs": [],
   "source": [
    "class m1:\n",
    "    \n",
    "    def f1(self):\n",
    "        print(\"Ist funcn\")"
   ]
  },
  {
   "cell_type": "code",
   "execution_count": 6,
   "id": "8118a445-d996-4ed4-b375-d7f476c9e479",
   "metadata": {},
   "outputs": [],
   "source": [
    "class m2:\n",
    "    \n",
    "    def f2(self):\n",
    "        print(\"2nd funcn\")"
   ]
  },
  {
   "cell_type": "code",
   "execution_count": 7,
   "id": "cc630f48-3ff4-47d0-954c-fed587779af2",
   "metadata": {},
   "outputs": [],
   "source": [
    "class mix(m1,m2):\n",
    "    pass"
   ]
  },
  {
   "cell_type": "code",
   "execution_count": 8,
   "id": "32a5cfc2-5fb1-4eea-98d5-b54f79c404fc",
   "metadata": {},
   "outputs": [],
   "source": [
    "obj_mix=mix()"
   ]
  },
  {
   "cell_type": "code",
   "execution_count": 9,
   "id": "20c70058-59db-4465-859d-6bbf93d5dec1",
   "metadata": {},
   "outputs": [
    {
     "name": "stdout",
     "output_type": "stream",
     "text": [
      "Ist funcn\n"
     ]
    }
   ],
   "source": [
    "obj_mix.f1()"
   ]
  },
  {
   "cell_type": "code",
   "execution_count": 10,
   "id": "0c4dcc66-e986-453f-908f-879c04cfb856",
   "metadata": {},
   "outputs": [
    {
     "name": "stdout",
     "output_type": "stream",
     "text": [
      "2nd funcn\n"
     ]
    }
   ],
   "source": [
    "obj_mix.f2()"
   ]
  },
  {
   "cell_type": "markdown",
   "id": "70ef7408-5056-4746-a9e5-4bf408b063c2",
   "metadata": {},
   "source": [
    "Q4. What are getter and setter in python? Create a class and create a getter and a setter method in this\n",
    "class."
   ]
  },
  {
   "cell_type": "markdown",
   "id": "a7b4bf2b-8f73-46eb-a8b5-e32289652e26",
   "metadata": {},
   "source": [
    "Getters: These are the methods used in Object-Oriented Programming (OOPS) which helps to access the private attributes from a class.\n",
    "\n",
    "Setters: These are the methods used in OOPS feature which helps to set the value to private attributes in a class.\n"
   ]
  },
  {
   "cell_type": "code",
   "execution_count": 11,
   "id": "a1156393-5cb0-4af2-ae88-d3112eae81a4",
   "metadata": {},
   "outputs": [],
   "source": [
    "class SampleClass:\n",
    "\n",
    "    def __init__(self, a):\n",
    "        self.__a = a\n",
    "\n",
    "    ## getter method to get the properties using an object\n",
    "    def get_a(self):\n",
    "        return self.__a\n",
    "\n",
    "    ## setter method to change the value 'a' using an object\n",
    "    def set_a(self, a):\n",
    "        self.__a = a\n"
   ]
  },
  {
   "cell_type": "code",
   "execution_count": 12,
   "id": "1a43b8e9-18ff-4618-a9dd-9804d142ccc5",
   "metadata": {},
   "outputs": [
    {
     "name": "stdout",
     "output_type": "stream",
     "text": [
      "10\n",
      "45\n"
     ]
    }
   ],
   "source": [
    "## creating an object\n",
    "obj = SampleClass(10)\n",
    "\n",
    "## getting the value of 'a' using get_a() method\n",
    "print(obj.get_a())\n",
    "\n",
    "## setting a new value to the 'a' using set_a() method\n",
    "obj.set_a(45)\n",
    "\n",
    "print(obj.get_a())"
   ]
  },
  {
   "cell_type": "code",
   "execution_count": 13,
   "id": "1127225a-569b-47be-bbdd-bcc51a27be70",
   "metadata": {},
   "outputs": [
    {
     "name": "stdout",
     "output_type": "stream",
     "text": [
      "setter method called\n",
      "getter method called\n",
      "30\n"
     ]
    }
   ],
   "source": [
    "## Another example\n",
    "class Get:\n",
    "     def __init__(self):\n",
    "          self._age = 0\n",
    "       \n",
    "     # using property decorator\n",
    "     # a getter function\n",
    "     @property\n",
    "     def age(self):\n",
    "         print(\"getter method called\")\n",
    "         return self._age\n",
    "       \n",
    "     # a setter function\n",
    "     @age.setter\n",
    "     def age(self, a):\n",
    "         if(a < 18):\n",
    "            print(\"Sorry you age is below eligibility criteria\")\n",
    "            self._age=a\n",
    "         else: \n",
    "            print(\"setter method called\")\n",
    "            self._age = a\n",
    "  \n",
    "mark = Get()\n",
    "  \n",
    "mark.age = 30\n",
    "  \n",
    "print(mark.age)"
   ]
  },
  {
   "cell_type": "markdown",
   "id": "1342685c-b446-4cbb-8272-edb0020e2d1c",
   "metadata": {},
   "source": [
    "Q5.What is method overriding in python? Write a python code to demonstrate method overriding."
   ]
  },
  {
   "cell_type": "markdown",
   "id": "ee6f6ce2-9256-4276-bc97-a8787ddf3a26",
   "metadata": {},
   "source": [
    "Method overriding is an ability of any object-oriented programming language that allows a subclass or child class to provide a specific implementation of a method that is already provided by one of its super-classes or parent classes. When a method in a subclass has the same name, same parameters or signature and same return type(or sub-type) as a method in its super-class, then the method in the subclass is said to override the method in the super-class."
   ]
  },
  {
   "cell_type": "code",
   "execution_count": 14,
   "id": "91f7ccf9-3a92-48bf-95a5-fe3357ff55f3",
   "metadata": {},
   "outputs": [
    {
     "name": "stdout",
     "output_type": "stream",
     "text": [
      "Inside Parent\n",
      "Inside Child\n"
     ]
    }
   ],
   "source": [
    "# Python program to demonstrate \n",
    "# method overriding\n",
    "  \n",
    "  \n",
    "# Defining parent class\n",
    "class Parent():\n",
    "      \n",
    "    # Constructor\n",
    "    def __init__(self):\n",
    "        self.value = \"Inside Parent\"\n",
    "          \n",
    "    # Parent's show method\n",
    "    def show(self):\n",
    "        print(self.value)\n",
    "          \n",
    "# Defining child class\n",
    "class Child(Parent):\n",
    "      \n",
    "    # Constructor\n",
    "    def __init__(self):\n",
    "        self.value = \"Inside Child\"\n",
    "          \n",
    "    # Child's show method\n",
    "    def show(self):\n",
    "        print(self.value)\n",
    "          \n",
    "          \n",
    "# Driver's code\n",
    "obj1 = Parent()\n",
    "obj2 = Child()\n",
    "  \n",
    "obj1.show()\n",
    "obj2.show()"
   ]
  },
  {
   "cell_type": "markdown",
   "id": "2c491ba5-67b8-4fac-810f-5243fc45773d",
   "metadata": {},
   "source": [
    "--------------------------"
   ]
  }
 ],
 "metadata": {
  "kernelspec": {
   "display_name": "Python 3 (ipykernel)",
   "language": "python",
   "name": "python3"
  },
  "language_info": {
   "codemirror_mode": {
    "name": "ipython",
    "version": 3
   },
   "file_extension": ".py",
   "mimetype": "text/x-python",
   "name": "python",
   "nbconvert_exporter": "python",
   "pygments_lexer": "ipython3",
   "version": "3.10.8"
  }
 },
 "nbformat": 4,
 "nbformat_minor": 5
}
